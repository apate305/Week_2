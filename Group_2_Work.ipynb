{
 "cells": [
  {
   "cell_type": "code",
   "execution_count": 10,
   "id": "6cd92761",
   "metadata": {},
   "outputs": [
    {
     "name": "stdout",
     "output_type": "stream",
     "text": [
      "Enter an Integer: 3\n",
      "Weird\n"
     ]
    }
   ],
   "source": [
    "n = int(input(\"Enter an Integer: \"))\n",
    "if n % 2 == 1:\n",
    "    print(\"Weird\")\n",
    "elif n in range(2,5):\n",
    "    if n % 2 == 0: \n",
    "        print(\"Not Weird\")\n",
    "elif n in range(6,20):\n",
    "    if n % 2 == 0: \n",
    "        print(\"Weird\")\n",
    "elif n > 20:\n",
    "    if n % 2 == 0:\n",
    "        print(\"Not Weird\")"
   ]
  },
  {
   "cell_type": "code",
   "execution_count": null,
   "id": "4895f93c",
   "metadata": {},
   "outputs": [],
   "source": []
  }
 ],
 "metadata": {
  "kernelspec": {
   "display_name": "Python 3 (ipykernel)",
   "language": "python",
   "name": "python3"
  },
  "language_info": {
   "codemirror_mode": {
    "name": "ipython",
    "version": 3
   },
   "file_extension": ".py",
   "mimetype": "text/x-python",
   "name": "python",
   "nbconvert_exporter": "python",
   "pygments_lexer": "ipython3",
   "version": "3.9.7"
  }
 },
 "nbformat": 4,
 "nbformat_minor": 5
}

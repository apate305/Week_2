{
 "cells": [
  {
   "cell_type": "markdown",
   "metadata": {},
   "source": [
    "### Homework Week 02\n",
    "#### Loops, Functions and Classes\n",
    "1. Do this homework **in order**. \n",
    "2. Be sure to have a solid understanding of Functions before working with Classes. "
   ]
  },
  {
   "cell_type": "markdown",
   "metadata": {},
   "source": [
    "1. Iterate through `integers_list` and `print` values that are multiples of 7."
   ]
  },
  {
   "cell_type": "code",
   "execution_count": 22,
   "metadata": {},
   "outputs": [
    {
     "name": "stdout",
     "output_type": "stream",
     "text": [
      "[168, 763, 707, 735, 637]\n"
     ]
    }
   ],
   "source": [
    "import random\n",
    "integers_list = [random.randint(0,1000) for i in range(50)] # a list comprehension\n",
    "multiples_list = []\n",
    "for i in integers_list:                 \n",
    "    if i % 7 == 0:\n",
    "        multiples_list.append(i)\n",
    "print(multiples_list)"
   ]
  },
  {
   "cell_type": "markdown",
   "metadata": {},
   "source": [
    "2. Create `list` of 5 colors as `strings` which are all lowercase. \n",
    "Iterate through the `list` and capitalize each color. \n",
    "You should modify the `list` in place. "
   ]
  },
  {
   "cell_type": "code",
   "execution_count": 10,
   "metadata": {},
   "outputs": [
    {
     "name": "stdout",
     "output_type": "stream",
     "text": [
      "['R', 'e', 'd', 'B', 'l', 'u', 'e', 'P', 'i', 'n', 'k', 'G', 'r', 'e', 'e', 'n', 'N', 'u', 'd', 'e']\n",
      "['R', 'e', 'd', ' ', 'B', 'l', 'u', 'e', ' ', 'P', 'i', 'n', 'k', ' ', 'G', 'r', 'e', 'e', 'n', ' ', 'N', 'u', 'd', 'e']\n",
      "Red Blue Pink Green Nude\n"
     ]
    }
   ],
   "source": [
    "five_colors = ['r', 'e', 'd', 'b', 'l', 'u', 'e', 'p', 'i', 'n', 'k', 'g', 'r', 'e', 'e', 'n', 'n', 'u', 'd', 'e']\n",
    "five_colors.insert(0, \"R\")\n",
    "del five_colors[1]\n",
    "five_colors.insert(3, \"B\")\n",
    "del five_colors[4]\n",
    "five_colors.insert(7, \"P\")\n",
    "del five_colors[8]\n",
    "five_colors.insert(11, \"G\")\n",
    "del five_colors[12]\n",
    "five_colors.insert(16, \"N\")\n",
    "del five_colors[17]\n",
    "print(five_colors)\n",
    "\n",
    "five_colors.insert(3, \" \")\n",
    "five_colors.insert(8, \" \")\n",
    "five_colors.insert(13, \" \")\n",
    "five_colors.insert(19, \" \")\n",
    "print(five_colors)\n",
    "\n",
    "print(\"\".join(five_colors))"
   ]
  },
  {
   "cell_type": "markdown",
   "metadata": {},
   "source": [
    "3. Loop through the string and eliminate all the asterisks."
   ]
  },
  {
   "cell_type": "code",
   "execution_count": 184,
   "metadata": {},
   "outputs": [
    {
     "name": "stdout",
     "output_type": "stream",
     "text": [
      "My computer has gone crazy and added extra symbols.\n"
     ]
    }
   ],
   "source": [
    "asterisk = 'My *compu*ter has go*ne craz***y an*d add*ed extra *symbols.*'\n",
    "#asterisk.replace(\"*\", \"\")\n",
    "\n",
    "if element == '*':\n",
    "    lst = asterisk.replace(\"*\", \"\")\n",
    "    print(lst)\n"
   ]
  },
  {
   "cell_type": "markdown",
   "metadata": {},
   "source": [
    "4. Write a `while` loop that increments `counter` until it reaches 7."
   ]
  },
  {
   "cell_type": "code",
   "execution_count": 29,
   "metadata": {},
   "outputs": [
    {
     "name": "stdout",
     "output_type": "stream",
     "text": [
      "0\n",
      "1\n",
      "2\n",
      "3\n",
      "4\n",
      "5\n",
      "6\n",
      "7\n"
     ]
    }
   ],
   "source": [
    "counter = 0\n",
    "\n",
    "while counter <= 7:\n",
    "  print(counter)\n",
    "  counter += 1"
   ]
  },
  {
   "cell_type": "markdown",
   "metadata": {},
   "source": [
    "5. Loop over `double_trouble` and eliminate any 'mosquito'."
   ]
  },
  {
   "cell_type": "code",
   "execution_count": 167,
   "metadata": {},
   "outputs": [
    {
     "ename": "SyntaxError",
     "evalue": "invalid syntax (3812798303.py, line 14)",
     "output_type": "error",
     "traceback": [
      "\u001b[0;36m  File \u001b[0;32m\"/var/folders/jl/_v7nhy4x6ns_kxmg8nxmzggr0000gn/T/ipykernel_37483/3812798303.py\"\u001b[0;36m, line \u001b[0;32m14\u001b[0m\n\u001b[0;31m    for i in double_trouble[3]\u001b[0m\n\u001b[0m                               ^\u001b[0m\n\u001b[0;31mSyntaxError\u001b[0m\u001b[0;31m:\u001b[0m invalid syntax\n"
     ]
    }
   ],
   "source": [
    "double_trouble = ['cat', 'dog', ['mouse','mosquito','bat','mosquito'],['elephant','dog','whale','lion',32,'mosquito'],'bird',[],'mosquito']\n",
    "#del double_trouble[2][1]\n",
    "#del double_trouble[2][2]\n",
    "#del double_trouble[3][5]\n",
    "#del double_trouble[6]\n",
    "\n",
    "#print(double_trouble) \n",
    "\n",
    "\n",
    "for i in double_trouble:\n",
    "    if i=='mosquito':\n",
    "        double_trouble.remove(i)\n",
    "        \n",
    "for i in double_trouble[3] \n",
    "    if i=='mosquito':\n",
    "        del double_trouble[3]\n",
    "        \n",
    "        print(double_trouble)"
   ]
  },
  {
   "cell_type": "markdown",
   "metadata": {},
   "source": [
    "6. Loop through the dictionary of phone numbers and correct the parentheses. "
   ]
  },
  {
   "cell_type": "code",
   "execution_count": 36,
   "metadata": {},
   "outputs": [
    {
     "ename": "TypeError",
     "evalue": "'type' object does not support item assignment",
     "output_type": "error",
     "traceback": [
      "\u001b[0;31m---------------------------------------------------------------------------\u001b[0m",
      "\u001b[0;31mTypeError\u001b[0m                                 Traceback (most recent call last)",
      "\u001b[0;32m/var/folders/jl/_v7nhy4x6ns_kxmg8nxmzggr0000gn/T/ipykernel_37483/1394706615.py\u001b[0m in \u001b[0;36m<module>\u001b[0;34m\u001b[0m\n\u001b[1;32m      5\u001b[0m                 'Jerri':'1-)555(-567-8910'}                   \n\u001b[1;32m      6\u001b[0m \u001b[0;34m\u001b[0m\u001b[0m\n\u001b[0;32m----> 7\u001b[0;31m \u001b[0mdict\u001b[0m\u001b[0;34m[\u001b[0m\u001b[0;34m'Jill'\u001b[0m\u001b[0;34m]\u001b[0m \u001b[0;34m=\u001b[0m \u001b[0;36m1\u001b[0m\u001b[0;34m-\u001b[0m\u001b[0;34m(\u001b[0m\u001b[0;36m555\u001b[0m\u001b[0;34m)\u001b[0m\u001b[0;34m-\u001b[0m\u001b[0;36m567\u001b[0m\u001b[0;34m-\u001b[0m\u001b[0;36m8910\u001b[0m\u001b[0;34m;\u001b[0m\u001b[0;34m\u001b[0m\u001b[0;34m\u001b[0m\u001b[0m\n\u001b[0m\u001b[1;32m      8\u001b[0m \u001b[0mdict\u001b[0m\u001b[0;34m[\u001b[0m\u001b[0;34m'Jen'\u001b[0m\u001b[0;34m]\u001b[0m \u001b[0;34m=\u001b[0m \u001b[0;36m1\u001b[0m\u001b[0;34m-\u001b[0m\u001b[0;34m(\u001b[0m\u001b[0;36m555\u001b[0m\u001b[0;34m)\u001b[0m\u001b[0;34m-\u001b[0m\u001b[0;36m567\u001b[0m\u001b[0;34m-\u001b[0m\u001b[0;36m8910\u001b[0m\u001b[0;34m;\u001b[0m\u001b[0;34m\u001b[0m\u001b[0;34m\u001b[0m\u001b[0m\n\u001b[1;32m      9\u001b[0m \u001b[0mdict\u001b[0m\u001b[0;34m[\u001b[0m\u001b[0;34m'Jan'\u001b[0m\u001b[0;34m]\u001b[0m \u001b[0;34m=\u001b[0m \u001b[0;36m1\u001b[0m\u001b[0;34m-\u001b[0m\u001b[0;34m(\u001b[0m\u001b[0;36m555\u001b[0m\u001b[0;34m)\u001b[0m\u001b[0;34m-\u001b[0m\u001b[0;36m567\u001b[0m\u001b[0;34m-\u001b[0m\u001b[0;36m8910\u001b[0m\u001b[0;34m;\u001b[0m\u001b[0;34m\u001b[0m\u001b[0;34m\u001b[0m\u001b[0m\n",
      "\u001b[0;31mTypeError\u001b[0m: 'type' object does not support item assignment"
     ]
    }
   ],
   "source": [
    "phone_numbers = {'Jill':'1-)555(-567-8910',\n",
    "                'Jen':'1-)555(-567-8910',\n",
    "                'Jan':'1-)555(-567-8910',\n",
    "                'Jane':'1-)555(-567-8910',\n",
    "                'Jerri':'1-)555(-567-8910'}                   \n",
    "\n",
    "dict['Jill'] = 1-(555)-567-8910;\n",
    "dict['Jen'] = 1-(555)-567-8910;\n",
    "dict['Jan'] = 1-(555)-567-8910;\n",
    "dict['Jane'] = 1-(555)-567-8910;\n",
    "dict['Jerri'] = 1-(555)-567-8910;\n",
    "\n",
    "print(phone_numbers)"
   ]
  },
  {
   "cell_type": "markdown",
   "metadata": {},
   "source": [
    "7. Create a function that takes in two numbers.\n",
    "\n",
    "If the numbers are both even add them and `return` the result.\n",
    "\n",
    "If the numbers are odd, subtract the second number from the first and `return` the result.\n",
    "\n",
    "(Assume you'll always get integers)"
   ]
  },
  {
   "cell_type": "code",
   "execution_count": 48,
   "metadata": {},
   "outputs": [
    {
     "name": "stdout",
     "output_type": "stream",
     "text": [
      "Enter an Integer: 11\n",
      "Enter an Integer: 15\n",
      "4\n"
     ]
    }
   ],
   "source": [
    "n = int(input(\"Enter an Integer: \"))\n",
    "m = int(input(\"Enter an Integer: \"))\n",
    "if n and m % 2 == 0:\n",
    "    a = n + m\n",
    "    print(a)\n",
    "if n and m % 2 == 1:\n",
    "    b = m - n\n",
    "    print(b)\n",
    "    "
   ]
  },
  {
   "cell_type": "markdown",
   "metadata": {},
   "source": [
    "8. Create a function that takes in a `string` and removes all non-alphanumeric characters."
   ]
  },
  {
   "cell_type": "code",
   "execution_count": 2,
   "metadata": {},
   "outputs": [
    {
     "name": "stdout",
     "output_type": "stream",
     "text": [
      "Enter a String: Ayesha^&^*aaa\n",
      "Ayeshaaaa\n"
     ]
    }
   ],
   "source": [
    "#I don't really understand this one! I thought the following would work but it didn't:\n",
    "\n",
    "#s = (input(\"Enter an string: \"))\n",
    "#for char in s:\n",
    "#    if char == \\W (i tried == and =)\n",
    "#    s2 = s.replace(\"\\W\", \"\")\n",
    "#print(s2)\n",
    "\n",
    "import re\n",
    "s = input(\"Enter a String: \")\n",
    "s2=re.sub(r'[\\W_]+', '', s)\n",
    "print(s2)"
   ]
  },
  {
   "cell_type": "code",
   "execution_count": null,
   "metadata": {},
   "outputs": [],
   "source": []
  },
  {
   "cell_type": "markdown",
   "metadata": {},
   "source": [
    "9. Create a function to convert Celsius to Farenheight and print the result. \n",
    "\n",
    "Bonus(Optional): Include the degree symbol in the output."
   ]
  },
  {
   "cell_type": "code",
   "execution_count": 6,
   "metadata": {},
   "outputs": [
    {
     "name": "stdout",
     "output_type": "stream",
     "text": [
      "Enter Temperature in Celsius: 100\n",
      "212.0 °\n"
     ]
    }
   ],
   "source": [
    "Degree_symbol = u\"\\N{DEGREE SIGN}\"\n",
    "C = float(input(\"Enter Temperature in Celsius: \"))\n",
    "F = 1.8 * C + 32\n",
    "print(F,Degree_symbol)"
   ]
  },
  {
   "cell_type": "markdown",
   "metadata": {},
   "source": [
    "10. Create a function that prints the fibonacci sequence from 0 to 25. "
   ]
  },
  {
   "cell_type": "code",
   "execution_count": 185,
   "metadata": {},
   "outputs": [
    {
     "name": "stdout",
     "output_type": "stream",
     "text": [
      "0\n",
      "1\n",
      "1\n",
      "2\n",
      "3\n",
      "5\n",
      "8\n",
      "13\n",
      "21\n"
     ]
    }
   ],
   "source": [
    "def sequence (f):\n",
    "   if f <= 1:\n",
    "       return f\n",
    "   else:\n",
    "       return(sequence(f-1) + sequence(f-2))\n",
    "for f in range(0,9):\n",
    "       print(sequence(f))"
   ]
  },
  {
   "cell_type": "markdown",
   "metadata": {},
   "source": [
    "11. Create two functions. One function that accepts args `a` and `b` and returns `a + b`. \n",
    "\n",
    "Create a second function that accepts the first function as the 3rd argument as well as a and b.\n"
   ]
  },
  {
   "cell_type": "code",
   "execution_count": 117,
   "metadata": {},
   "outputs": [
    {
     "name": "stdout",
     "output_type": "stream",
     "text": [
      "4\n"
     ]
    }
   ],
   "source": [
    "# you do the first function\n",
    "# second function\n",
    "# Here's some starter code to avoid confusion.\n",
    "# Functions can be passed around like any other object. \n",
    "#def second_function(a,b,some_function):"
   ]
  },
  {
   "cell_type": "code",
   "execution_count": 140,
   "metadata": {},
   "outputs": [
    {
     "name": "stdout",
     "output_type": "stream",
     "text": [
      "15\n",
      "840\n"
     ]
    }
   ],
   "source": [
    "def sum_ab(a, b):\n",
    "    c = a + b\n",
    "    return c\n",
    "print (sum_ab(7, 8))\n",
    "\n",
    "def product_d(a, b, sum_ab):\n",
    "    d = a * b * sum_ab\n",
    "    return d\n",
    "\n",
    "print (product_d(7, 8, sum_ab(7, 8)))"
   ]
  },
  {
   "cell_type": "markdown",
   "metadata": {},
   "source": [
    "12. Create a function that prints prime number from 0 to 100. "
   ]
  },
  {
   "cell_type": "code",
   "execution_count": 35,
   "metadata": {},
   "outputs": [
    {
     "name": "stdout",
     "output_type": "stream",
     "text": [
      "[2, 3, 5, 7, 11, 13, 17, 19, 23, 29, 31, 37, 41, 43, 47, 53, 59, 61, 67, 71, 73, 79, 83, 89, 97]\n"
     ]
    }
   ],
   "source": [
    "all_primes = []\n",
    "all_numbers = list(range(2,100))\n",
    "while len(all_numbers) > 0:\n",
    "    a = all_numbers[0]\n",
    "    all_primes.append(a)\n",
    "    modified_list = all_numbers[1: ]\n",
    "    for n  in all_numbers[:]:\n",
    "        if (n % a) == 0:\n",
    "            all_numbers.remove(n)\n",
    "print(all_primes)\n",
    "\n",
    "\n",
    "#Line 1--> An empty set, all_primes is created.\n",
    "#Line 2--> A list containing all #s ranging from 2-100(excluding 100) is called, all_#s\n",
    "#Line 3--> While length of the list, all_#s, is greater than 0, do the following...\n",
    "#Line 4--> The element at index 0 is assigned variable a\n",
    "#Line 5--> Add the 1st element (a) to the list, all_primes\n",
    "#Line 6--> The rest of the #s in list, all_#s, from index 1 is assigned 'modified_list'\n",
    "#Line 7--> For each n (or number) in the list, all_#s...\n",
    "#Line 8--> If that \"n\" when multiplied by \"a\" (# at index 0) has a remainder of 0...\n",
    "#Line 9--> remove it from the list all_#\n",
    "#Line 10 -->print the #s in the list all_primes (after you break out of the loop)\n",
    "\n",
    "#EXAMPLE:\n",
    "#Line 3--> Length of the list, all_#s, is greater than 0, so we do the following...\n",
    "#Line 4--> 2 = a (index 0)\n",
    "#Line 5--> 2 is added to the list, all_primes\n",
    "#Line 6--> The numbers, 3-99 is assigned 'modified_list'\n",
    "#Line 7--> Do following for each n (or number)\n",
    "#Line 8--> n = 3; a = 2; 3/2 does NOT have a remainder of 0...\n",
    "#Line 9--> 3 is NOT removed from the list, all_#\n",
    "#We are still in the for loop(imbedded in while loop); next number is 4, divided by 2 \n",
    "#does give 0 as remainder, hence 4 is removed. Eventually, each even number will be\n",
    "#removed since even #s are divisble by 2 and we will exit the for loop\n",
    "#and go back to the while loop since the list is still greater than 0.This time, the \n",
    "#number at index 0 is 3 which will be added to \"all_primes.\" The rest of the #s (4-99)\n",
    "#will be assigned to modifed_list (I am confused about this! Are we saying that the\n",
    "#rest of the #s are assigned to a list called 'modified_list' or the variable \n",
    "#'modified_list'?) We will then enter back into the for loop & proceed to \n",
    "#removing all #s divisble by 3 after which we will go back into the while loop. \n",
    "#Next number to be added to prime_list is 5 which will enter the for loop. We will\n",
    "#eliminate all #s divisible by 5 and then exit the for loop, going back to the\n",
    "#while loop and so on...until the condition to enter the while loop is false\n",
    "#(meaning, the length of the list is 0);\n",
    "#I hope I am understanding this correctly!!"
   ]
  },
  {
   "cell_type": "markdown",
   "metadata": {},
   "source": [
    "13. Now's your chance to show off. Create a function that does something that has not already been done in the homework. Get creative. "
   ]
  },
  {
   "cell_type": "code",
   "execution_count": 38,
   "metadata": {},
   "outputs": [
    {
     "name": "stdout",
     "output_type": "stream",
     "text": [
      "Enter length of a here: 5\n",
      "Enter length of b here: 7\n",
      "8.602325267042627\n"
     ]
    }
   ],
   "source": [
    "#The Pythagorean Theorem\n",
    "a = float(input(\"Enter length of a here: \"))\n",
    "b = float(input(\"Enter length of b here: \"))\n",
    "A = a * a\n",
    "B = b * b\n",
    "C = (A + B)**0.5\n",
    "print(C)\n"
   ]
  },
  {
   "cell_type": "markdown",
   "metadata": {},
   "source": [
    "14. Add an attribute called `age` to the `__init__` method of the `Person` class.\n",
    "\n",
    "Create an instance of `Person()` and print the `age`."
   ]
  },
  {
   "cell_type": "code",
   "execution_count": 44,
   "metadata": {},
   "outputs": [
    {
     "name": "stdout",
     "output_type": "stream",
     "text": [
      "26\n"
     ]
    }
   ],
   "source": [
    "class Person():\n",
    "    \n",
    "    def __init__(self, name, occupation, country, age):\n",
    "        self.name = name\n",
    "        self.occupation = occupation\n",
    "        self.country = country\n",
    "        self.age = age\n",
    "a = Person(\"Ayesha\", \"teacher\", \"America\", 26)\n",
    "\n",
    "print(a.age)\n",
    "    "
   ]
  },
  {
   "cell_type": "markdown",
   "metadata": {},
   "source": [
    "15. Creat an instance of the class `Candy`. \n",
    "\n",
    "Add an attribute called `cost` on your instance. (Don't modify the class starter code.)\n",
    "\n",
    "Print the instance's `cost` attribute.\n",
    "\n",
    "Bonus(optional): Add a function of your choice to the instance. "
   ]
  },
  {
   "cell_type": "code",
   "execution_count": 8,
   "metadata": {},
   "outputs": [],
   "source": [
    "class Candy():\n",
    "    \n",
    "    def __init__(self, kind='chocolate', brand= 'Nestle', caramel = False):\n",
    "        self.type = kind\n",
    "        self.brand = brand\n",
    "        self.caramel = caramel\n",
    "        "
   ]
  },
  {
   "cell_type": "code",
   "execution_count": 85,
   "metadata": {},
   "outputs": [
    {
     "name": "stdout",
     "output_type": "stream",
     "text": [
      "2\n"
     ]
    }
   ],
   "source": [
    "class Candy():\n",
    "    \n",
    "    def __init__(self, kind, brand, filling, cost):\n",
    "        self.type = kind\n",
    "        self.brand = brand\n",
    "        self.filling = filling\n",
    "        self.cost = cost\n",
    "b = Candy (\"chocolate\", \"Cadbury\", \"caramel\", 2)\n",
    "\n",
    "print(b.cost)"
   ]
  },
  {
   "cell_type": "markdown",
   "metadata": {},
   "source": [
    "16. Add an instance method to our class `Greet` that prints a greeting including `greeting` and the `name`. \n",
    "\n",
    "Example:\n",
    "\n",
    "`jen = Greet()`\n",
    "\n",
    "`jen.greet_method()` returns `\"Hello Jennifer\"`\n"
   ]
  },
  {
   "cell_type": "code",
   "execution_count": 89,
   "metadata": {},
   "outputs": [
    {
     "name": "stdout",
     "output_type": "stream",
     "text": [
      "Hello Jennifer\n"
     ]
    }
   ],
   "source": [
    "class Greet():  \n",
    "    def __init__(self, name, language, greeting):\n",
    "        \n",
    "        self.language = language\n",
    "        self.greeting = greeting\n",
    "        self.name = name\n",
    "c = Greet (\"Jennifer\", \"english\", \"Hello \")        \n",
    "print(c.greeting + c.name)\n",
    "        "
   ]
  },
  {
   "cell_type": "markdown",
   "metadata": {},
   "source": [
    "17. Add a line to the follwing code that will increment `employee_count` by 1 for **all** instances of `Employee`.\n",
    "\n",
    "The code should run each time an new instance of`Employee` is created. \n",
    "\n",
    "Hint: You don't need methods. Just a single expression will work. And it does NOT inlcude the word `self`. "
   ]
  },
  {
   "cell_type": "code",
   "execution_count": 145,
   "metadata": {},
   "outputs": [
    {
     "name": "stdout",
     "output_type": "stream",
     "text": [
      "1\n",
      "2\n",
      "3\n"
     ]
    }
   ],
   "source": [
    "class Employee():\n",
    "    \n",
    "    # class variables. Applies to all instances of this class during creation.\n",
    "    yearly_bonus = 1.01 # not used anywhere in this example\n",
    "    \n",
    "    employee_count = 0 # This variable will change for all instances of the class.\n",
    "    \n",
    "       \n",
    "    def __init__(self,name, age, base_pay): # creates an instance of our object with unique attributes\n",
    "        \n",
    "        self.name = name\n",
    "        self.age = age\n",
    "        self.base_pay = base_pay\n",
    "        type(self).employee_count += 1\n",
    "             \n",
    "emp1 = Employee('Matt', 32,40000)\n",
    "print(emp1.employee_count) # should be 1 if the __init__ method is working properly. \n",
    "\n",
    "emp2 = emp1 = Employee('Joe', 22,50000) # should be 2 if the __init__ method is working properly. \n",
    "print(emp2.employee_count)\n",
    "\n",
    "emp3 = Employee('Sarah', 40, 60000) \n",
    "print(emp3.employee_count)\n",
    "\n"
   ]
  },
  {
   "cell_type": "markdown",
   "metadata": {},
   "source": [
    "18 . Add a `static` method of your choice to the class below. \n",
    "\n",
    "Instaiate an object and call your method. \n",
    "\n",
    "What is a static method anyway? \n"
   ]
  },
  {
   "cell_type": "code",
   "execution_count": 148,
   "metadata": {},
   "outputs": [],
   "source": [
    "class actress():\n",
    "    def __init__(self, name = 'Meryl Streep'):\n",
    "        self.name = name\n",
    "        \n",
    "    def act(self, line):\n",
    "        print(f'{self.name}: {line}')\n",
    "        \n",
    "    @staticmethod\n",
    "    def comment ():\n",
    "        print(\"She is an actress.\")\n",
    "        \n",
    "meryl = actress()\n",
    "meryl.act('This is my line...')"
   ]
  },
  {
   "cell_type": "code",
   "execution_count": null,
   "metadata": {},
   "outputs": [],
   "source": [
    "#A static method differs from a class method in that it does not take the attributes of\n",
    "#a class object as the arguement (self). In other words, it does not refer to the\n",
    "#instance of the object that you're working with. "
   ]
  },
  {
   "cell_type": "markdown",
   "metadata": {},
   "source": [
    "19. Create a `class` called Car that accepts 3 attributes (make, model and year). \n",
    "\n",
    "In the `__init__` method give your instance those three attributes. \n",
    "\n",
    "Instantiate (create) an object that is your dream car. \n",
    "\n",
    "Print the make of your dream car using the object attributes. \n",
    "\n",
    "Then call the dir() method on your new object. (See your attrs are now included!)"
   ]
  },
  {
   "cell_type": "code",
   "execution_count": 150,
   "metadata": {},
   "outputs": [
    {
     "name": "stdout",
     "output_type": "stream",
     "text": [
      "('Toyota', 'Camry', 2020)\n"
     ]
    },
    {
     "data": {
      "text/plain": [
       "['__add__',\n",
       " '__class__',\n",
       " '__class_getitem__',\n",
       " '__contains__',\n",
       " '__delattr__',\n",
       " '__dir__',\n",
       " '__doc__',\n",
       " '__eq__',\n",
       " '__format__',\n",
       " '__ge__',\n",
       " '__getattribute__',\n",
       " '__getitem__',\n",
       " '__getnewargs__',\n",
       " '__gt__',\n",
       " '__hash__',\n",
       " '__init__',\n",
       " '__init_subclass__',\n",
       " '__iter__',\n",
       " '__le__',\n",
       " '__len__',\n",
       " '__lt__',\n",
       " '__mul__',\n",
       " '__ne__',\n",
       " '__new__',\n",
       " '__reduce__',\n",
       " '__reduce_ex__',\n",
       " '__repr__',\n",
       " '__rmul__',\n",
       " '__setattr__',\n",
       " '__sizeof__',\n",
       " '__str__',\n",
       " '__subclasshook__',\n",
       " 'count',\n",
       " 'index']"
      ]
     },
     "execution_count": 150,
     "metadata": {},
     "output_type": "execute_result"
    }
   ],
   "source": [
    "class char ():\n",
    "    def __init__(car, make, model, year):\n",
    "        car.make = make\n",
    "        car.model = model\n",
    "        car.year = year\n",
    "dream_car = ('Toyota', 'Camry', 2020)\n",
    "print(dream_car)\n",
    "\n",
    "dir(dream_car)"
   ]
  },
  {
   "cell_type": "markdown",
   "metadata": {},
   "source": [
    "20. Create a class called `Dice` that accepts a single argument called `number_of_dice`. \n",
    "\n",
    "Create an instance method called `roll`. \n",
    "\n",
    "`roll` should randomly pick a number for each die when called and print the results as a list. \n",
    "\n",
    "Create an instance of `Dice`. Then call `roll()` on your instance.\n",
    "\n",
    "Hint: Inside your class create an empty list called `dice`."
   ]
  },
  {
   "cell_type": "code",
   "execution_count": 12,
   "metadata": {},
   "outputs": [
    {
     "name": "stdout",
     "output_type": "stream",
     "text": [
      "3\n"
     ]
    }
   ],
   "source": [
    "# Helpful starter code\n",
    "from random import randrange\n",
    "\n",
    "print(randrange(1,7)) # randomly generates a number between 1 and 6"
   ]
  },
  {
   "cell_type": "code",
   "execution_count": 156,
   "metadata": {},
   "outputs": [
    {
     "name": "stdout",
     "output_type": "stream",
     "text": [
      "4\n"
     ]
    }
   ],
   "source": [
    "from random import randrange\n",
    "class Dice ():\n",
    "    def __init__(dices, number_of_dice=randrange(1,7)):\n",
    "        dices.number_of_dice = number_of_dice\n",
    "        \n",
    "roll = print(randrange(1,7))"
   ]
  },
  {
   "cell_type": "markdown",
   "metadata": {},
   "source": [
    "Bonus(optional):\n",
    "\n",
    "0. Create a class of your choice.\n",
    "1. Give it instance variables and class variables. \n",
    "2. Give it a classmethod. \n",
    "3. Give it a regular method (instance method).\n",
    "4. Give it a static method. \n",
    "\n",
    "Show how each works by printing an example. "
   ]
  },
  {
   "cell_type": "code",
   "execution_count": null,
   "metadata": {},
   "outputs": [],
   "source": []
  }
 ],
 "metadata": {
  "kernelspec": {
   "display_name": "Python 3 (ipykernel)",
   "language": "python",
   "name": "python3"
  },
  "language_info": {
   "codemirror_mode": {
    "name": "ipython",
    "version": 3
   },
   "file_extension": ".py",
   "mimetype": "text/x-python",
   "name": "python",
   "nbconvert_exporter": "python",
   "pygments_lexer": "ipython3",
   "version": "3.9.7"
  }
 },
 "nbformat": 4,
 "nbformat_minor": 4
}
